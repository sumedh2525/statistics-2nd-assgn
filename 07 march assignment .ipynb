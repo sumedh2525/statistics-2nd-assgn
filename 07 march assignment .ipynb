{
 "cells": [
  {
   "cell_type": "raw",
   "id": "59db645a-c1de-497a-a00c-1df6935984c3",
   "metadata": {},
   "source": [
    "Q1. What are the three measures of central tendency? \n",
    "\n",
    "Ans:\n",
    "Mean: The mean is calculated by adding up all the values in a dataset and then dividing by the total number of values\n",
    "\n",
    "Median: The median is the middle value in a dataset when the values are arranged in order from smallest to largest\n",
    "\n",
    "Mode: The mode is the value that appears most frequently in a dataset. It represents the most common value in the data"
   ]
  },
  {
   "cell_type": "raw",
   "id": "997b7f6e-87c6-40e9-ae1d-b2bf2a449fe1",
   "metadata": {},
   "source": [
    "Q2. What is the difference between the mean, median, and mode? How are they used to measure the  central tendency of a dataset? \n",
    "\n",
    "The mean is the average of all values in the dataset. It is calculated by adding up all the values and then dividing by the total number of values. The mean is sensitive to extreme values or outliers, which can greatly affect its value.\n",
    "The median is the middle value in a dataset when the values are arranged in order from smallest to largest. If there is an odd number of values in the dataset, the median is the middle value\n",
    "The mode is the most frequently occurring value in a dataset. A dataset can have one or more modes, or no mode at all if all values are unique. The mode is useful for identifying the most common value in the dataset."
   ]
  },
  {
   "cell_type": "code",
   "execution_count": null,
   "id": "2ea36447-ede0-4e34-aa72-b57431ba8bc8",
   "metadata": {},
   "outputs": [],
   "source": []
  },
  {
   "cell_type": "code",
   "execution_count": null,
   "id": "f52cc220-db28-4bcb-bb35-051a61fd8927",
   "metadata": {},
   "outputs": [],
   "source": []
  },
  {
   "cell_type": "raw",
   "id": "9547593c-36d5-42ee-8964-75c8cf27b72b",
   "metadata": {},
   "source": [
    "Q3. Measure the three measures of central tendency for the given height data:  [178,177,176,177,178.2,178,175,179,180,175,178.9,176.2,177,172.5,178,176.5] \n",
    "\n",
    "Ans:-"
   ]
  },
  {
   "cell_type": "code",
   "execution_count": 9,
   "id": "50d49fa6-3be1-4c57-ad33-26f4f220efcb",
   "metadata": {},
   "outputs": [
    {
     "name": "stdout",
     "output_type": "stream",
     "text": [
      "mean height 177.01875\n",
      "Median height: 177.0\n",
      "Mode 178\n"
     ]
    }
   ],
   "source": [
    "import statistics\n",
    "\n",
    "height_data = [178, 177, 176, 177, 178.2, 178, 175, 179, 180, 175, 178.9, 176.2, 177, 172.5, 178, 176.5]\n",
    "\n",
    "# for mean\n",
    "mean = statistics.mean(height_data)\n",
    "print(\"mean height\", mean)\n",
    "\n",
    "# for median\n",
    "median = statistics.median(height_data)\n",
    "print(\"Median height:\", median)\n",
    "\n",
    "# for mode\n",
    "try:\n",
    "    mode = statistics.mode(height_data)\n",
    "    print(\"Mode\",mode)\n",
    "except statistics.StatisticsError:\n",
    "    print(\"There is no mode in the dataset.\")\n"
   ]
  },
  {
   "cell_type": "code",
   "execution_count": null,
   "id": "188be911-ddeb-4814-9419-3d9ee8473abf",
   "metadata": {},
   "outputs": [],
   "source": []
  },
  {
   "cell_type": "code",
   "execution_count": null,
   "id": "e49d76db-aefb-4c05-9a25-7fef510a70a0",
   "metadata": {},
   "outputs": [],
   "source": []
  },
  {
   "cell_type": "raw",
   "id": "902bc6ec-7aad-48b1-ac0c-a56de3e0e500",
   "metadata": {},
   "source": [
    "Q4. Find the standard deviation for the given data: \n",
    "[178,177,176,177,178.2,178,175,179,180,175,178.9,176.2,177,172.5,178,176.5] \n"
   ]
  },
  {
   "cell_type": "code",
   "execution_count": 13,
   "id": "4370ae7f-9fda-4d4a-9aa3-6011ae85a103",
   "metadata": {},
   "outputs": [
    {
     "name": "stdout",
     "output_type": "stream",
     "text": [
      "Standard deviation: 1.8472389305844188\n"
     ]
    }
   ],
   "source": [
    "import statistics\n",
    "data = [178,177,176,177,178.2,178,175,179,180,175,178.9,176.2,177,172.5,178,176.5]\n",
    "\n",
    "std_dev=statistics.stdev(data)\n",
    "print(\"Standard deviation:\", std_dev)"
   ]
  },
  {
   "cell_type": "code",
   "execution_count": null,
   "id": "d9ef6c5f-7d6c-4642-9134-5be94a701e44",
   "metadata": {},
   "outputs": [],
   "source": []
  },
  {
   "cell_type": "raw",
   "id": "3ed893d3-b3fa-45a1-b9db-99742bf3a535",
   "metadata": {},
   "source": [
    "Q5. How are measures of dispersion such as range, variance, and standard deviation used to describe  the spread of a dataset? Provide an example. \n"
   ]
  },
  {
   "cell_type": "code",
   "execution_count": 23,
   "id": "3c1ec279-cc25-4a5f-a318-c5ea22ccbfc4",
   "metadata": {},
   "outputs": [
    {
     "name": "stdout",
     "output_type": "stream",
     "text": [
      "Range 7.5\n",
      "Variance 3.4122916666666674\n",
      "Standard deviation 1.8472389305844188\n"
     ]
    }
   ],
   "source": [
    "import statistics\n",
    "data = [178, 177, 176, 177, 178.2, 178, 175, 179, 180, 175, 178.9, 176.2, 177, 172.5, 178, 176.5]\n",
    "\n",
    "# for range\n",
    "range = max(data) - min(data)\n",
    "print(\"Range\",range)\n",
    "\n",
    "# for variance\n",
    "variance = statistics.variance(data)\n",
    "print(\"Variance\",variance)\n",
    "\n",
    "# for standard deviation\n",
    "std_dev = statistics.stdev(data)\n",
    "print(\"Standard deviation\",std_dev)"
   ]
  },
  {
   "cell_type": "code",
   "execution_count": null,
   "id": "b4d5e0b8-e111-4a1d-9910-f7de30ae9b08",
   "metadata": {},
   "outputs": [],
   "source": []
  },
  {
   "cell_type": "raw",
   "id": "c000ea1f-76ac-4291-aeeb-a88f7f6613d8",
   "metadata": {},
   "source": [
    "Q6. What is a Venn diagram? \n",
    "\n",
    "Ans:\n",
    "A Venn diagram is a graphical representation of sets using overlapping circles. In Python, the matplotlib_venn library provides an easy way to create Venn diagrams"
   ]
  },
  {
   "cell_type": "raw",
   "id": "ef6c8a35-a10d-4e31-b7b0-4af079116afb",
   "metadata": {},
   "source": [
    "Q7. For the two given sets A = (2,3,4,5,6,7) & B = (0,2,6,8,10). Find: \n",
    "(i)  A B \n",
    "(ii) A ⋃ B \n",
    "\n",
    "Ans:"
   ]
  },
  {
   "cell_type": "code",
   "execution_count": 32,
   "id": "16d145e5-63a0-4c42-b242-0fb21378326d",
   "metadata": {},
   "outputs": [
    {
     "name": "stdout",
     "output_type": "stream",
     "text": [
      "{2, 6} {0, 2, 3, 4, 5, 6, 7, 8, 10}\n"
     ]
    }
   ],
   "source": [
    "A = {2,3,4,5,6,7}\n",
    "B = {0,2,6,8,10}\n",
    "\n",
    "# fint the intersection\n",
    "intersection = A.intersection(B)\n",
    "# find union\n",
    "union = A.union(B)\n",
    "\n",
    "print(intersection, union)"
   ]
  },
  {
   "cell_type": "raw",
   "id": "fcb87a95-479d-4440-abf5-86e3cb851824",
   "metadata": {},
   "source": [
    "Q8. What do you understand about skewness in data? \n",
    "\n",
    "Skewness in data refers to the degree of asymmetry or lack of symmetry in the distribution of a dataset. A distribution is said to be skewed if it is not symmetric."
   ]
  },
  {
   "cell_type": "raw",
   "id": "fd0174f1-52be-41f3-bbaf-61b1ccddd182",
   "metadata": {},
   "source": [
    "Q9. If a data is right skewed then what will be the position of median with respect to mean? \n",
    "\n",
    "Ans:\n",
    "If a dataset is right-skewed, then the tail of the distribution extends to the right, and there are more extreme values on the right side. In this case, the mean is typically greater than the median, and the median is located to the left of the mean."
   ]
  },
  {
   "cell_type": "raw",
   "id": "0d9c0e04-d31c-44e2-b231-e64c4d061db1",
   "metadata": {},
   "source": [
    "Q10. Explain the difference between covariance and correlation. How are these measures used in  statistical analysis? \n",
    "\n",
    "Ans:\n",
    "Covariance measures the direction and strength of the linear relationship between two variables. It is a measure of how much two variables vary together. A positive covariance indicates a direct relationship where both variables tend to increase or decrease together, while a negative covariance indicates an inverse relationship where one variable tends to increase as the other decreases\n",
    "Correlation, on the other hand, standardizes the covariance by dividing it by the product of the standard deviations of the two variables. \n",
    "\n",
    "\n",
    "\n",
    "\n",
    "\n"
   ]
  },
  {
   "cell_type": "raw",
   "id": "9f093815-50b8-40d3-af84-4cc86907b0fc",
   "metadata": {},
   "source": [
    "Q11. What is the formula for calculating the sample mean? Provide an example calculation for a dataset.\n",
    "\n",
    "Ans:\n",
    "let the valies = 3,5,6,9,11,14\n",
    "Sample Mean = (Sum of all values in the dataset) / (Number of values in the dataset)\n",
    "\n",
    "sum of all values = 3+5+6+9+11+14 = 48\n",
    "numbr of values = 6\n",
    "sample Mean = 48/6 = 8\n",
    "\n",
    "The sample mean of the dataset {3,5,6,9,11,14} is 8\n",
    "\n",
    "\n",
    "\n",
    "\n"
   ]
  },
  {
   "cell_type": "raw",
   "id": "08b382d3-75d7-4a14-8668-27ac214d2426",
   "metadata": {},
   "source": [
    "Q12. For a normal distribution data what is the relationship between its measure of central tendency?\n",
    "\n",
    "Ans:\n",
    "For a normal distribution, the mean, median, and mode are equal, as the data is symmetrically distributed around their common value.\n",
    "\n",
    "\n"
   ]
  },
  {
   "cell_type": "raw",
   "id": "dfa2f048-42c5-43ea-98d3-885eee12dad9",
   "metadata": {},
   "source": [
    "Q13. How is covariance different from correlation?\n",
    "\n",
    "Ans:\n",
    "Covariance and correlation are both measures of the relationship between two variables, but they differ in their interpretation and scale.\n",
    "\n",
    "Scale:\n",
    "\n",
    "Covariance: Covariance is not scaled and can take any value, positive or negative\n",
    "Correlation: Correlation is a standardized measure that ranges between -1 and +1. A correlation of +1 indicates a perfect positive linear relationship, -1 indicates a perfect negative linear relationship, and 0 indicates no linear relationship\n",
    "\n",
    "Interpretation:\n",
    "\n",
    "Covariance: Covariance measures the direction and strength of the linear relationship between two variables.\n",
    "Correlation: Correlation measures the strength and direction of the linear relationship between two variables.\n",
    "\n",
    "\n"
   ]
  },
  {
   "cell_type": "raw",
   "id": "5b6a43ce-51af-4ba7-8601-362ccc112d77",
   "metadata": {},
   "source": [
    "Q14. How do outliers affect measures of central tendency and dispersion? Provide an example.\n",
    "\n",
    "Ans:\n",
    "Measures of Central Tendency:\n",
    "Outliers can greatly affect measures of central tendency, such as the mean, median, and mode:\n",
    "\n",
    "Measures of Dispersion:\n",
    "Outliers can also impact measures of dispersion, such as the range, variance, and standard deviation:"
   ]
  },
  {
   "cell_type": "code",
   "execution_count": null,
   "id": "f8f7ac2e-618a-4fa1-9656-d77bded753e7",
   "metadata": {},
   "outputs": [],
   "source": []
  }
 ],
 "metadata": {
  "kernelspec": {
   "display_name": "Python 3 (ipykernel)",
   "language": "python",
   "name": "python3"
  },
  "language_info": {
   "codemirror_mode": {
    "name": "ipython",
    "version": 3
   },
   "file_extension": ".py",
   "mimetype": "text/x-python",
   "name": "python",
   "nbconvert_exporter": "python",
   "pygments_lexer": "ipython3",
   "version": "3.10.8"
  }
 },
 "nbformat": 4,
 "nbformat_minor": 5
}
